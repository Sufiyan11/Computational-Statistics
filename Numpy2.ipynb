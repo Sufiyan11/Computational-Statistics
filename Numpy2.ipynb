{
 "cells": [
  {
   "cell_type": "code",
   "execution_count": 29,
   "id": "118d3513",
   "metadata": {},
   "outputs": [
    {
     "name": "stdout",
     "output_type": "stream",
     "text": [
      "A : [[  1  12 123]\n",
      " [123 123   1]]\n",
      "\n",
      "B : [[ 7  8  9]\n",
      " [10 11 12]]\n",
      "\n",
      "Add :\n",
      " [[  8  20 132]\n",
      " [133 134  13]]\n",
      "\n",
      "Sub : [[ -6   4 114]\n",
      " [113 112 -11]]\n",
      "\n",
      "Mul : [[   7   96 1107]\n",
      " [1230 1353   12]]\n"
     ]
    }
   ],
   "source": [
    "import numpy as np\n",
    "import math\n",
    "a=np.array([[1,12,123],[123,123,1]])\n",
    "b=np.array([[7,8,9],[10,11,12]])\n",
    "c=np.add(a,b)\n",
    "print(\"A :\",a)\n",
    "print(\"\\nB :\",b)\n",
    "print(\"\\nAdd :\\n\",c)\n",
    "c=np.subtract(a,b)\n",
    "print(\"\\nSub :\",c)\n",
    "c=np.multiply(a,b)\n",
    "print(\"\\nMul :\",c)"
   ]
  },
  {
   "cell_type": "code",
   "execution_count": 24,
   "id": "cbee4dfa",
   "metadata": {},
   "outputs": [
    {
     "name": "stdout",
     "output_type": "stream",
     "text": [
      "A : [[1 2 3]\n",
      " [4 5 6]]\n",
      "\n",
      "Min : 1\n",
      "\n",
      "Minimum elements per column : [1 2 3]\n",
      "\n",
      "Minimum elements per row :  [1 4]\n"
     ]
    }
   ],
   "source": [
    "print(\"A :\",a)\n",
    "c=np.min(a)\n",
    "print(\"\\nMin :\",c)\n",
    "c=np.min(a,axis=0)\n",
    "print(\"\\nMinimum elements per column :\",c)\n",
    "c=np.min(a,axis=1)\n",
    "print(\"\\nMinimum elements per row : \",c)"
   ]
  },
  {
   "cell_type": "code",
   "execution_count": 25,
   "id": "ee5b74c5",
   "metadata": {},
   "outputs": [
    {
     "name": "stdout",
     "output_type": "stream",
     "text": [
      "A : [[1 2 3]\n",
      " [4 5 6]]\n",
      "\n",
      "Max : 6\n",
      "\n",
      "Maximum elements per column : [4 5 6]\n",
      "\n",
      "Maximum elements per row :  [3 6]\n"
     ]
    }
   ],
   "source": [
    "print(\"A :\",a)\n",
    "c=np.max(a)\n",
    "print(\"\\nMax :\",c)\n",
    "c=np.max(a,axis=0)\n",
    "print(\"\\nMaximum elements per column :\",c)\n",
    "c=np.max(a,axis=1)\n",
    "print(\"\\nMaximum elements per row : \",c)"
   ]
  },
  {
   "cell_type": "code",
   "execution_count": 31,
   "id": "860d208c",
   "metadata": {},
   "outputs": [
    {
     "name": "stdout",
     "output_type": "stream",
     "text": [
      "A : [[  1  12 123]\n",
      " [123 123   1]]\n",
      "\n",
      "Average : 63.833333333333336\n",
      "\n",
      "Mean : 63.833333333333336\n",
      "\n",
      "Mean per column :  [62.  67.5 62. ]\n",
      "\n",
      "Mean per row :  [45.33333333 82.33333333]\n",
      "\n",
      "Median : 67.5\n",
      "\n",
      "Median per column :  [62.  67.5 62. ]\n",
      "\n",
      "Median per row :  [ 12. 123.]\n",
      "\n",
      "Variance : 3514.138888888889\n",
      "\n",
      "Standard deviation :  59.280172814263025\n"
     ]
    }
   ],
   "source": [
    "print(\"A :\",a)\n",
    "c=np.average(a)\n",
    "print(\"\\nAverage :\",c)\n",
    "c=np.mean(a)\n",
    "print(\"\\nMean :\",c)\n",
    "c=np.mean(a,axis=0)\n",
    "print(\"\\nMean per column : \",c)\n",
    "c=np.mean(a,axis=1)\n",
    "print(\"\\nMean per row : \",c)\n",
    "c=np.median(a)\n",
    "print(\"\\nMedian :\",c)\n",
    "c=np.median(a,axis=0)\n",
    "print(\"\\nMedian per column : \",c)\n",
    "c=np.median(a,axis=1)\n",
    "print(\"\\nMedian per row : \",c)\n",
    "c=np.var(a)\n",
    "print(\"\\nVariance :\",c)\n",
    "c=np.std(a)\n",
    "print(\"\\nStandard deviation : \",c)"
   ]
  },
  {
   "cell_type": "code",
   "execution_count": 30,
   "id": "de2bd214",
   "metadata": {},
   "outputs": [
    {
     "name": "stdout",
     "output_type": "stream",
     "text": [
      "Mean : 63.833333333333336\n",
      "Meadian :  67.5\n",
      "Variance :  3514.138888888889\n",
      "Standard Deviation :  59.280172814263025\n"
     ]
    }
   ],
   "source": [
    "#Mean\n",
    "\n",
    "sum=0\n",
    "n=0\n",
    "for i in a:\n",
    "    for j in i:\n",
    "        sum+=j\n",
    "        n+=1\n",
    "mean=sum/n\n",
    "print(\"Mean :\",mean)\n",
    "\n",
    "#Median\n",
    "\n",
    "sum=0\n",
    "n=0\n",
    "for i in range(2):\n",
    "    sum+=a[i][1]\n",
    "    n+=1\n",
    "median=sum/n\n",
    "print(\"Meadian : \",median)\n",
    "\n",
    "#Variance\n",
    "\n",
    "sum=0\n",
    "n=0\n",
    "for i in a:\n",
    "    for j in i:\n",
    "        sum+=(j-mean)*(j-mean)\n",
    "        n+=1\n",
    "variance=sum/n\n",
    "print(\"Variance : \",variance)\n",
    "\n",
    "#Standard deviation\n",
    "stddev=math.sqrt(variance)\n",
    "print(\"Standard Deviation : \",stddev)"
   ]
  },
  {
   "cell_type": "code",
   "execution_count": null,
   "id": "85bdbc1e",
   "metadata": {},
   "outputs": [],
   "source": []
  }
 ],
 "metadata": {
  "kernelspec": {
   "display_name": "Python 3 (ipykernel)",
   "language": "python",
   "name": "python3"
  },
  "language_info": {
   "codemirror_mode": {
    "name": "ipython",
    "version": 3
   },
   "file_extension": ".py",
   "mimetype": "text/x-python",
   "name": "python",
   "nbconvert_exporter": "python",
   "pygments_lexer": "ipython3",
   "version": "3.9.7"
  }
 },
 "nbformat": 4,
 "nbformat_minor": 5
}
