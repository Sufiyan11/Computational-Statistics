{
 "cells": [
  {
   "cell_type": "markdown",
   "id": "569119ce",
   "metadata": {},
   "source": [
    "### 11. Write a python program to find Principle components for the given variables."
   ]
  },
  {
   "cell_type": "code",
   "execution_count": 1,
   "id": "aeb31516",
   "metadata": {},
   "outputs": [],
   "source": [
    "import numpy as np\n",
    "import math"
   ]
  },
  {
   "cell_type": "code",
   "execution_count": 2,
   "id": "3383b9ea",
   "metadata": {},
   "outputs": [],
   "source": [
    "def transpose(mat1):\n",
    "    if mat1.ndim==1: mat=np.array([mat1.tolist()])\n",
    "    else: mat=mat1\n",
    "    result = np.zeros((mat.shape[1],mat.shape[0]))\n",
    "    for i in range(mat.shape[0]):\n",
    "   # iterate through columns\n",
    "       for j in range(mat.shape[1]):\n",
    "           result[j, i] = mat[i, j]\n",
    "    return result"
   ]
  },
  {
   "cell_type": "code",
   "execution_count": 3,
   "id": "9d27bfcd",
   "metadata": {},
   "outputs": [],
   "source": [
    "def multiply(mat1, mat2):\n",
    "    a = [mat1.tolist()] if mat1.ndim==1 else mat1.tolist()\n",
    "    b = mat2.tolist()\n",
    "    if len(a[0]) != len(b):\n",
    "        print('Cannot multily the matrices')\n",
    "        print(a)\n",
    "        print(b)\n",
    "        return None\n",
    "    c = [[0 for i in range(len(b[0]))] for j in range(len(a))]\n",
    "    for i in range(len(a)):\n",
    "        for j in range(len(b[0])):\n",
    "            for k in range(len(b)):\n",
    "                c[i][j] += a[i][k] * b[k][j]\n",
    "    c = np.array(c)\n",
    "    return c"
   ]
  },
  {
   "cell_type": "code",
   "execution_count": 4,
   "id": "a22d3fcb",
   "metadata": {},
   "outputs": [
    {
     "name": "stdout",
     "output_type": "stream",
     "text": [
      "Enter the number of variables: 3\n",
      "Enter the number of observations: 5\n",
      "Enter the threshold percentage: 95\n",
      "Enter the observations of x1: 70 70 40 40 10\n",
      "Enter the observations of x2: 40 70 40 40 10\n",
      "Enter the observations of x3: 70 10 40 70 10\n",
      "\n",
      "The eigen vectors are: \n",
      "z1 = + 0.6558022549801471 x1 + 0.42919779654868817 x2 + 0.6210576895914784 x3 \n",
      "z2 = + 0.3859987953881002 x1 + 0.5163664177215532 x2 + -0.7644413990675453 x3 \n",
      "\n",
      "The principal components are: \n",
      "\n",
      "Z1:  106.5481, 82.1606, 68.2423, 86.874, 17.0606, \n",
      "Z2:  -5.8363, 55.5212, 5.517, -17.4163, 1.3792, "
     ]
    }
   ],
   "source": [
    "k = int(input(\"Enter the number of variables: \"))\n",
    "n = int(input(\"Enter the number of observations: \"))\n",
    "th = float(input(\"Enter the threshold percentage: \"))\n",
    "\n",
    "x = np.array([])\n",
    "mew = np.zeros((1, k), dtype=float)\n",
    "\n",
    "for i in range(k):\n",
    "    xvar = np.array([[float(j)] for j in input(f\"Enter the observations of x{i+1}: \").split()])\n",
    "    if i == 0:\n",
    "        x = transpose(np.append(x, xvar))\n",
    "    else:\n",
    "        x = np.hstack((x, xvar))\n",
    "    mew[0,i] += sum(xvar)\n",
    "mew /= n\n",
    "xmew = x - mew\n",
    "\n",
    "c = multiply(transpose(xmew), xmew)\n",
    "c /= n\n",
    "\n",
    "eigenVal, eigenVec = np.linalg.eig(c)\n",
    "eigenVec = transpose(eigenVec)\n",
    "idx = np.argsort(eigenVal)[::-1]\n",
    "eigenVal, eigenVec = eigenVal[idx], eigenVec[idx]\n",
    "eigSig = np.sum(eigenVal)\n",
    "c = 0\n",
    "z = []\n",
    "for i in range(k):\n",
    "    val = (sum(eigenVal[:i+1])/eigSig)*100\n",
    "    z.append(eigenVec[i])\n",
    "    c += 1\n",
    "    if val >= th:\n",
    "        break\n",
    "z = np.array(z)\n",
    "z *= -1\n",
    "\n",
    "print(\"\\nThe eigen vectors are: \")\n",
    "for i in range(c):\n",
    "    print(f\"z{i+1} = \", end='')\n",
    "    for j in range(k):\n",
    "        print(f\"+ {z[i,j]} x{j+1}\", end=' ')\n",
    "    print()\n",
    "\n",
    "print(\"\\nThe principal components are: \")\n",
    "for i in range(c):\n",
    "    print(f\"\\nZ{i+1}: \", end=\" \")\n",
    "    for j in range(n):\n",
    "        val = 0\n",
    "        for l in range(k):\n",
    "            val += z[i,l]*x[j,l]\n",
    "        print(round(val, 4), end=', ')"
   ]
  }
 ],
 "metadata": {
  "kernelspec": {
   "display_name": "Python 3 (ipykernel)",
   "language": "python",
   "name": "python3"
  },
  "language_info": {
   "codemirror_mode": {
    "name": "ipython",
    "version": 3
   },
   "file_extension": ".py",
   "mimetype": "text/x-python",
   "name": "python",
   "nbconvert_exporter": "python",
   "pygments_lexer": "ipython3",
   "version": "3.9.12"
  }
 },
 "nbformat": 4,
 "nbformat_minor": 5
}
