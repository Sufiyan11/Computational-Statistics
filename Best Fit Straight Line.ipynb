{
 "cells": [
  {
   "cell_type": "markdown",
   "id": "2aa79bac",
   "metadata": {},
   "source": [
    "# 1.\tWrite a python program to find the best fit straight line and draw the scatter plot"
   ]
  },
  {
   "cell_type": "code",
   "execution_count": 1,
   "id": "a00c67b3",
   "metadata": {},
   "outputs": [],
   "source": [
    "import numpy as np\n",
    "import matplotlib.pyplot as plt"
   ]
  },
  {
   "cell_type": "code",
   "execution_count": 2,
   "id": "45491b23",
   "metadata": {},
   "outputs": [],
   "source": [
    "def myMean(data):\n",
    "    mean = 0\n",
    "    for i in np.nditer(data):\n",
    "        mean += i\n",
    "    mean /= len(data)\n",
    "    return mean"
   ]
  },
  {
   "cell_type": "code",
   "execution_count": 3,
   "id": "ea525b38",
   "metadata": {},
   "outputs": [
    {
     "name": "stdout",
     "output_type": "stream",
     "text": [
      "Enter x values: 1 2 3 4 6 8\n",
      "Enter y values: 2.4 3 3.6 4 5 6\n",
      "The calculated straight line y=1.9765+0.5059x is the best fit to the given data\n"
     ]
    },
    {
     "data": {
      "image/png": "[encoded data removed]",
      "text/plain": [
       "<Figure size 432x288 with 1 Axes>"
      ]
     },
     "metadata": {
      "needs_background": "light"
     },
     "output_type": "display_data"
    }
   ],
   "source": [
    "x = np.array([float(i) for i in input(\"Enter x values: \").split()])\n",
    "y = np.array([float(i) for i in input(\"Enter y values: \").split()])\n",
    "\n",
    "x2 = x * x\n",
    "xy = x * y\n",
    "\n",
    "m = (len(x)*sum(xy) - sum(x)*sum(y)) / (len(x)*sum(x2) - (sum(x))**2)\n",
    "\n",
    "c = (sum(y) - m*sum(x)) / len(x)\n",
    "\n",
    "line = lambda k : (m*k + c)\n",
    "ycal = line(x)\n",
    "\n",
    "plt.plot(x,y)\n",
    "plt.plot(x,ycal)\n",
    "\n",
    "ybar = myMean(y)\n",
    "\n",
    "sse = sum((y-ycal)**2)\n",
    "ssr = sum((ycal-ybar)**2)\n",
    "sst = ssr + sse\n",
    "\n",
    "r2 = ssr/sst\n",
    "\n",
    "if r2 > 0.9:\n",
    "    print(f'The calculated straight line y={round(c,4)}+{round(m,4)}x is the best fit to the given data')\n",
    "else:\n",
    "    print(f'The calculated straight line y={round(c,4)}+{round(m,4)}x is not the best fit to the given data')"
   ]
  }
 ],
 "metadata": {
  "kernelspec": {
   "display_name": "Python 3 (ipykernel)",
   "language": "python",
   "name": "python3"
  },
  "language_info": {
   "codemirror_mode": {
    "name": "ipython",
    "version": 3
   },
   "file_extension": ".py",
   "mimetype": "text/x-python",
   "name": "python",
   "nbconvert_exporter": "python",
   "pygments_lexer": "ipython3",
   "version": "3.9.12"
  }
 },
 "nbformat": 4,
 "nbformat_minor": 5
}
