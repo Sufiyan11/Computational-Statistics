{
 "cells": [
  {
   "cell_type": "markdown",
   "id": "fef4138a",
   "metadata": {},
   "source": [
    "### 9. Write a python program to classify the treatments based on MANOVA."
   ]
  },
  {
   "cell_type": "code",
   "execution_count": 1,
   "id": "6bf9f983",
   "metadata": {},
   "outputs": [],
   "source": [
    "import numpy as np\n",
    "import scipy.stats as ss"
   ]
  },
  {
   "cell_type": "code",
   "execution_count": 2,
   "id": "83b51cd0",
   "metadata": {},
   "outputs": [],
   "source": [
    "def det(mat):\n",
    "    return mat[0,0]*mat[1,1]-mat[0,1]*mat[1,0]"
   ]
  },
  {
   "cell_type": "code",
   "execution_count": 3,
   "id": "b6b80303",
   "metadata": {},
   "outputs": [
    {
     "name": "stdout",
     "output_type": "stream",
     "text": [
      "Enter total number of groups: 8\n",
      "Enter number of treatments: 3\n",
      "Enter the number of observations in each group: 2\n",
      "Enter number of groups in treatment1: 3\n",
      "\tEnter the values of group1: 9 3\n",
      "\tEnter the values of group2: 6 2\n",
      "\tEnter the values of group3: 9 7\n",
      "Enter number of groups in treatment2: 2\n",
      "\tEnter the values of group1: 0 4\n",
      "\tEnter the values of group2: 2 0\n",
      "Enter number of groups in treatment3: 3\n",
      "\tEnter the values of group1: 3 8\n",
      "\tEnter the values of group2: 1 9\n",
      "\tEnter the values of group3: 2 7\n",
      "\n",
      "For y1: \n",
      "\tSST = 88.0\n",
      "\tSSE = 10.0\n",
      "\tSSR = 78.0\n",
      "\n",
      "For y2: \n",
      "\tSST = 72.0\n",
      "\tSSE = 24.0\n",
      "\tSSR = 48.0\n",
      "\n",
      "For cross product of y1 & y2: \n",
      "\tSST = -11.0\n",
      "\tSSE = 1.0\n",
      "\tSSR = -12.0\n",
      "Inference: \n",
      "Fcal > Ftab (8.2 > 3.84), we reject H0, hence we conclude that there is no homogenity among the treatments\n"
     ]
    }
   ],
   "source": [
    "n = int(input(\"Enter total number of groups: \"))\n",
    "k = int(input(\"Enter number of treatments: \"))\n",
    "p = int(input(\"Enter the number of observations in each group: \"))\n",
    "alpha=0.05\n",
    "trs = []\n",
    "yi = np.array([[0,0] for i in range(k)])\n",
    "ydbar = np.array([0, 0])\n",
    "for i in range(k):\n",
    "    ni = int(input(f\"Enter number of groups in treatment{i+1}: \"))\n",
    "    trV = np.empty((0, p))\n",
    "    for j in range(ni):\n",
    "        grp = np.array([float(k) for k in input(f\"\\tEnter the values of group{j+1}: \").split()])\n",
    "        trV = np.append(trV, np.array([grp]), axis=0)\n",
    "        yi[i] = yi[i]+grp\n",
    "        ydbar = ydbar + grp\n",
    "    yi[i] = yi[i]/ni\n",
    "    trs.append(trV)\n",
    "trs = np.array(trs, dtype=object)\n",
    "ydbar = ydbar/n\n",
    "\n",
    "# for y1\n",
    "sst1, sse1, sst2, sse2, sst12, sse12 = 0, 0, 0, 0, 0, 0\n",
    "for i in range(len(trs)):\n",
    "    for j in trs[i]:\n",
    "        sst1 += (j[0]-ydbar[0])**2\n",
    "        sse1 += (j[0]-yi[i, 0])**2\n",
    "        sst2 += (j[1]-ydbar[1])**2\n",
    "        sse2 += (j[1]-yi[i, 1])**2\n",
    "        sst12 += j[0]*j[1] - ydbar[0]*ydbar[1]\n",
    "        sse12 += j[0]*j[1] - yi[i, 0]*yi[i, 1]\n",
    "ssr1 = sst1 - sse1\n",
    "ssr2 = sst2 - sse2\n",
    "ssr12 = sst12 - sse12\n",
    "\n",
    "print('\\nFor y1: ')\n",
    "print(f'\\tSST = {sst1}\\n\\tSSE = {sse1}\\n\\tSSR = {ssr1}')\n",
    "print('\\nFor y2: ')\n",
    "print(f'\\tSST = {sst2}\\n\\tSSE = {sse2}\\n\\tSSR = {ssr2}')\n",
    "print('\\nFor cross product of y1 & y2: ')\n",
    "print(f'\\tSST = {sst12}\\n\\tSSE = {sse12}\\n\\tSSR = {ssr12}')\n",
    "\n",
    "W = np.array([[sse1, sse12], [sse12, sse2]])\n",
    "T = np.array([[sst1, sst12], [sst12, sst2]])\n",
    "lambdaS = det(W)/det(T)\n",
    "F = ((n-k-1)/(k-1))*(1-lambdaS**0.5)/(lambdaS)**0.5\n",
    "Ftab = ss.f.ppf(1-alpha, p*(k-1), p*(n-k-1))\n",
    "\n",
    "print('Inference: ')\n",
    "if F > Ftab:\n",
    "    print(f'Fcal > Ftab ({round(F, 2)} > {round(Ftab, 2)}), we reject H0, hence we conclude that there is no homogenity among the treatments')\n",
    "else:\n",
    "    print(f'Fcal <= Ftab ({round(F, 2)} <= {round(Ftab, 2)}), we accept H0, hence we conclude that there is homogenity among the treatments')"
   ]
  }
 ],
 "metadata": {
  "kernelspec": {
   "display_name": "Python 3 (ipykernel)",
   "language": "python",
   "name": "python3"
  },
  "language_info": {
   "codemirror_mode": {
    "name": "ipython",
    "version": 3
   },
   "file_extension": ".py",
   "mimetype": "text/x-python",
   "name": "python",
   "nbconvert_exporter": "python",
   "pygments_lexer": "ipython3",
   "version": "3.9.12"
  }
 },
 "nbformat": 4,
 "nbformat_minor": 5
}
