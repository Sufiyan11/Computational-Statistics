{
 "cells": [
  {
   "cell_type": "markdown",
   "id": "326c0afd",
   "metadata": {},
   "source": [
    "### 8. Write a python program to fit a multivariate regression model for any given data."
   ]
  },
  {
   "cell_type": "code",
   "execution_count": 1,
   "id": "88ef6a95",
   "metadata": {},
   "outputs": [],
   "source": [
    "import numpy as np\n",
    "np.set_printoptions(suppress=True)"
   ]
  },
  {
   "cell_type": "code",
   "execution_count": 2,
   "id": "591b10a8",
   "metadata": {},
   "outputs": [],
   "source": [
    "def multiply(a, b):\n",
    "    if a.shape[1] != b.shape[0]:\n",
    "        print(\"Cannot multiply the matrices!!\")\n",
    "        return None\n",
    "    c = np.zeros([a.shape[0],b.shape[1]], dtype=float)\n",
    "    for i in range(len(a)):\n",
    "        for j in range(len(b[0])):\n",
    "            for k in range(len(b)):\n",
    "                c[i, j] += a[i, k] * b [k, j]\n",
    "    return c"
   ]
  },
  {
   "cell_type": "code",
   "execution_count": 4,
   "id": "33999e29",
   "metadata": {},
   "outputs": [],
   "source": [
    "def transpose(mat):\n",
    "    result = np.zeros((mat.shape[1], mat.shape[0]), dtype=float)\n",
    "        \n",
    "    for i in range(mat.shape[0]):\n",
    "   # iterate through columns\n",
    "       for j in range(mat.shape[1]):\n",
    "           result[j, i] = mat[i, j]\n",
    "    return result"
   ]
  },
  {
   "cell_type": "code",
   "execution_count": 5,
   "id": "1250099f",
   "metadata": {},
   "outputs": [],
   "source": [
    "def recursiveDet(mat):\n",
    "    if mat.shape == (2,2):\n",
    "        return mat[0,0]*mat[1,1] - mat[0,1]*mat[1,0]\n",
    "    total = 0\n",
    "    for c in range(mat.shape[0]):\n",
    "        matCopy = np.copy(mat)\n",
    "        matCopy = matCopy[1:]\n",
    "        matCopy = np.delete(matCopy, c, 1)\n",
    "        sign = (-1)**(c%2)\n",
    "        sub_det = recursiveDet(matCopy)\n",
    "        total += sign*mat[0, c]*sub_det\n",
    "    return total"
   ]
  },
  {
   "cell_type": "code",
   "execution_count": 6,
   "id": "682b8af9",
   "metadata": {},
   "outputs": [],
   "source": [
    "def myInv(mat):\n",
    "    det = recursiveDet(mat)\n",
    "    adj = np.zeros(mat.shape, dtype=float)\n",
    "    for r in range(mat.shape[0]):\n",
    "        matC = np.copy(mat)\n",
    "        matC = np.delete(matC, r, 0)\n",
    "        for c in range(matC.shape[1]):\n",
    "            matC2 = np.delete(matC, c, 1)\n",
    "            adj[r, c] = ((-1)**(c%2)) * recursiveDet(matC2)\n",
    "    adj = adj/det\n",
    "    return adj"
   ]
  },
  {
   "cell_type": "code",
   "execution_count": 8,
   "id": "058776f2",
   "metadata": {},
   "outputs": [
    {
     "name": "stdout",
     "output_type": "stream",
     "text": [
      "Enter the number of y variables: 2\n",
      "Enter the number of x variables: 3\n",
      "Enter the number of observations: 12\n",
      "Enter values of y1: 10 12 11 9 9 10 11 12 11 10 11 12\n",
      "Enter values of y2: 100 110 105 94 95 99 104 108 105 98 103 110\n",
      "Enter values of x1: 9 8 7 14 12 10 7 4 6 5 7 6\n",
      "Enter values of x2: 62 58 64 60 63 57 55 56 59 61 57 60\n",
      "Enter values of x3: 1.0 1.3 1.2 0.8 0.8 0.9 1.0 1.2 1.1 1.0 1.2 1.2\n",
      "[[ 10.89699524  91.09719893]\n",
      " [  0.04494029   0.06400723]\n",
      " [ -0.08770359  -0.29437367]\n",
      " [ -5.03545972 -27.83530349]]\n",
      "Fitting for profit: y = 10.897 + 0.045x1 + -0.088x2 + -5.035x3\n",
      "Fitting for sales: y = 91.097 + 0.064x1 + -0.294x2 + -27.835x3\n"
     ]
    }
   ],
   "source": [
    "p1 = int(input(\"Enter the number of y variables: \"))\n",
    "p2 = int(input(\"Enter the number of x variables: \"))\n",
    "n = int(input(\"Enter the number of observations: \"))\n",
    "\n",
    "# y = np.array([[10, 100], [12, 110], [11, 105], [9, 94], [9, 95], [10, 99], [11, 104], [12, 108], [11, 105], [10, 98], [11, 103], [12, 110]])\n",
    "# x = np.array([[1, 9, 62, 1.0], [1, 8, 58, 1.3], [1, 7, 64, 1.2], [1, 14, 60, 0.8], [1, 12, 63, 0.8], [1, 10, 57, 0.9], [1, 7, 55, 1.0], [1, 4, 56, 1.2], [1, 6, 59, 1.1], [1, 5, 61, 1.0], [1, 7, 57, 1.2], [1, 6, 60, 1.2]])\n",
    "y = np.array([[float(j)] for j in input(f\"Enter values of y1: \").split()])\n",
    "for i in range(1, p1):\n",
    "    yvar = np.array([[float(j)] for j in input(f\"Enter values of y{i+1}: \").split()])\n",
    "    y = np.hstack((y,yvar))\n",
    "x = np.array([[1] for i in range(n)])\n",
    "for i in range(p2):\n",
    "    xvar = np.array([[float(j)] for j in input(f\"Enter values of x{i+1}: \").split()])\n",
    "    x = np.hstack((x, xvar))\n",
    "\n",
    "xt = transpose(x)\n",
    "xtx = multiply(xt, x)\n",
    "xtxi = myInv(xtx)\n",
    "xty = multiply(xt, y)\n",
    "beta = multiply(xtxi, xty)\n",
    "print(beta)\n",
    "print(f\"Fitting for profit: y = {round(beta[0,0],3)} + {round(beta[1,0],3)}x1 + {round(beta[2,0],3)}x2 + {round(beta[3,0], 3)}x3\")\n",
    "print(f\"Fitting for sales: y = {round(beta[0,1], 3)} + {round(beta[1,1], 3)}x1 + {round(beta[2,1], 3)}x2 + {round(beta[3,1], 3)}x3\")"
   ]
  }
 ],
 "metadata": {
  "kernelspec": {
   "display_name": "Python 3 (ipykernel)",
   "language": "python",
   "name": "python3"
  },
  "language_info": {
   "codemirror_mode": {
    "name": "ipython",
    "version": 3
   },
   "file_extension": ".py",
   "mimetype": "text/x-python",
   "name": "python",
   "nbconvert_exporter": "python",
   "pygments_lexer": "ipython3",
   "version": "3.9.12"
  }
 },
 "nbformat": 4,
 "nbformat_minor": 5
}
