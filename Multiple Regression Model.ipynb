{
 "cells": [
  {
   "cell_type": "markdown",
   "id": "0efdbc41",
   "metadata": {},
   "source": [
    "### 7. Write a python program to fit a multiple regression model for any given data."
   ]
  },
  {
   "cell_type": "code",
   "execution_count": 1,
   "id": "902e1078",
   "metadata": {},
   "outputs": [],
   "source": [
    "import numpy as np\n",
    "import scipy.stats as ss"
   ]
  },
  {
   "cell_type": "code",
   "execution_count": 2,
   "id": "3bef594d",
   "metadata": {},
   "outputs": [],
   "source": [
    "def multiply(a, b):\n",
    "    if a.shape[1] != b.shape[0]:\n",
    "        print(\"Cannot multiply the matrices!!\")\n",
    "        return None\n",
    "    c = np.zeros([a.shape[0],b.shape[1]], dtype=float)\n",
    "    for i in range(len(a)):\n",
    "        for j in range(len(b[0])):\n",
    "            for k in range(len(b)):\n",
    "                c[i, j] += a[i, k] * b [k, j]\n",
    "    return c"
   ]
  },
  {
   "cell_type": "code",
   "execution_count": 3,
   "id": "5358616f",
   "metadata": {},
   "outputs": [],
   "source": [
    "def transpose(mat):\n",
    "    result = np.zeros((mat.shape[1], mat.shape[0]), dtype=float)\n",
    "        \n",
    "    for i in range(mat.shape[0]):\n",
    "   # iterate through columns\n",
    "       for j in range(mat.shape[1]):\n",
    "           result[j, i] = mat[i, j]\n",
    "    return result"
   ]
  },
  {
   "cell_type": "code",
   "execution_count": 4,
   "id": "0eff6f13",
   "metadata": {},
   "outputs": [],
   "source": [
    "def recursiveDet(mat):\n",
    "    if mat.shape == (2,2):\n",
    "        return mat[0,0]*mat[1,1] - mat[0,1]*mat[1,0]\n",
    "    total = 0\n",
    "    for c in range(mat.shape[0]):\n",
    "        matCopy = np.copy(mat)\n",
    "        matCopy = matCopy[1:]\n",
    "        matCopy = np.delete(matCopy, c, 1)\n",
    "        sign = (-1)**(c%2)\n",
    "        sub_det = recursiveDet(matCopy)\n",
    "        total += sign*mat[0, c]*sub_det\n",
    "    return total"
   ]
  },
  {
   "cell_type": "code",
   "execution_count": 5,
   "id": "8a9d5fed",
   "metadata": {},
   "outputs": [],
   "source": [
    "def matInv(mat):\n",
    "    det = recursiveDet(mat)\n",
    "    adj = np.zeros(mat.shape, dtype=float)\n",
    "    for r in range(mat.shape[0]):\n",
    "        matC = np.copy(mat)\n",
    "        matC = np.delete(matC, r, 0)\n",
    "        for c in range(matC.shape[1]):\n",
    "            sign = (-1)**((c+1)%2) if r%2==1 else (-1)**(c%2)\n",
    "            matC2 = np.delete(matC, c, 1)\n",
    "            adj[r, c] = sign * recursiveDet(matC2)\n",
    "    adj = adj/det\n",
    "    return adj"
   ]
  },
  {
   "cell_type": "code",
   "execution_count": 6,
   "id": "f208a5fc",
   "metadata": {},
   "outputs": [],
   "source": [
    "def myMean(arr):\n",
    "    mean = 0\n",
    "    count = 0\n",
    "    for i in np.nditer(arr):\n",
    "        mean += i\n",
    "        count += 1\n",
    "    mean /= count\n",
    "    return mean"
   ]
  },
  {
   "cell_type": "code",
   "execution_count": 7,
   "id": "e5cbc1a8",
   "metadata": {},
   "outputs": [
    {
     "name": "stdout",
     "output_type": "stream",
     "text": [
      "Enter number of variables: 3\n",
      "Enter number of observations: 7\n",
      "Enter values of y: 11 11 8 2 5 5 4\n",
      "Enter values of x1: -5 -4 -1 2 2 3 3\n",
      "Enter values of x2: 5 4 1 -3 -2 -2 -3\n",
      "Goodness of fit by coeffecient of determination:\n",
      "The model is a good fit\n",
      "\n",
      "ANOVA:\n",
      "We reject H0, i.e., there is atleast one regression parameter which is influencing the model\n"
     ]
    }
   ],
   "source": [
    "# y = np.array([[11], [11], [8], [2],[5], [5], [4]])\n",
    "# x = np.array([[1, -5, 5], [1, -4, 4], [1, -1, 1], [1, 2, -3], [1, 2, -2], [1, 3, -2], [1, 3, -3]])\n",
    "\n",
    "p = int(input(\"Enter number of variables: \"))\n",
    "n = int(input(\"Enter number of observations: \"))\n",
    "x = np.array([[1] for i in range(n)])\n",
    "y = np.array([[float(i)] for i in input(\"Enter values of y: \").split()])\n",
    "\n",
    "for i in range(p-1):    \n",
    "    xvar = np.array([[float(j)] for j in input(f\"Enter values of x{i+1}: \").split()])\n",
    "    x = np.hstack((x, xvar))\n",
    "\n",
    "xt = transpose(x)\n",
    "xtx = multiply(xt,x)\n",
    "xtxi = matInv(xtx)\n",
    "xty = multiply(xt, y)\n",
    "mlr = multiply(xtxi, xty)\n",
    "yFunc = lambda x1, x2: mlr[0]+mlr[1]*x1+mlr[2]*x2\n",
    "ycap = yFunc(x[:,1], x[:,2])\n",
    "ycap = np.array([[i] for i in ycap])\n",
    "Ei = y-ycap\n",
    "# Goodness of fit\n",
    "print('Goodness of fit by coeffecient of determination:')\n",
    "sse = sum(Ei**2)\n",
    "sst = sum((y-myMean(y))**2)\n",
    "ssr = sst - sse\n",
    "\n",
    "r2 = ssr/sst\n",
    "\n",
    "if r2 < 0.9:\n",
    "    print(\"The model is not a good fit\")\n",
    "else:\n",
    "    print(\"The model is a good fit\")\n",
    "    \n",
    "# ANOVA \n",
    "print('\\nANOVA:')\n",
    "alpha = 0.05\n",
    "n = y.shape[0]\n",
    "\n",
    "MSSr = ssr/(p - 1)\n",
    "MSSe = sse/(n - p)\n",
    "\n",
    "F = MSSr/MSSe if MSSr/MSSe>0 else MSSe/MSSr\n",
    "Ftab = ss.f.ppf(1 - alpha, p-1, n-p)\n",
    "\n",
    "if F > Ftab:\n",
    "    print('We reject H0, i.e., there is atleast one regression parameter which is influencing the model')\n",
    "else:\n",
    "    print('We accept H0, i.e., there is no regression parameter which is influencing the model')"
   ]
  }
 ],
 "metadata": {
  "kernelspec": {
   "display_name": "Python 3 (ipykernel)",
   "language": "python",
   "name": "python3"
  },
  "language_info": {
   "codemirror_mode": {
    "name": "ipython",
    "version": 3
   },
   "file_extension": ".py",
   "mimetype": "text/x-python",
   "name": "python",
   "nbconvert_exporter": "python",
   "pygments_lexer": "ipython3",
   "version": "3.9.12"
  }
 },
 "nbformat": 4,
 "nbformat_minor": 5
}
