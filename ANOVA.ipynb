{
 "cells": [
  {
   "cell_type": "markdown",
   "id": "92d51a1a",
   "metadata": {},
   "source": [
    "# 5. Write a python program to classify the data based on one way ANOVA"
   ]
  },
  {
   "cell_type": "code",
   "execution_count": 5,
   "id": "19c4e2cf",
   "metadata": {},
   "outputs": [
    {
     "name": "stdout",
     "output_type": "stream",
     "text": [
      "Enter the level of significance: 0.05\n",
      "Enter the number of treatments: 3\n",
      "Enter the values of treatments: \n",
      "Treatment 1: 13 10 8 11 8\n",
      "Treatment 2: 13 11 14 14\n",
      "Treatment 3: 4 1 3 4 2 4\n",
      "Fcal>Ftable (50.625>3.8853) We reject H0 and accept H1, i.e., there is no homogenity among the means\n"
     ]
    }
   ],
   "source": [
    "import scipy.stats as ss\n",
    "alpha = float(input(\"Enter the level of significance: \"))\n",
    "\n",
    "k = int(input(\"Enter the number of treatments: \"))\n",
    "\n",
    "# tr = [[13, 10, 8, 11, 8], [13, 11, 14, 14], [4, 1, 3, 4, 2, 4]]\n",
    "tr = []\n",
    "\n",
    "print(\"Enter the values of treatments: \")\n",
    "for i in range(k):\n",
    "    vals = [float(j) for j in input(f\"Treatment {i+1}: \").split()]\n",
    "    tr.append(vals)\n",
    "   \n",
    "G = 0\n",
    "N = 0\n",
    "RSS = 0\n",
    "sigTi2N = 0\n",
    "\n",
    "for i in range(k):\n",
    "    ti2 = 0\n",
    "    ni = 0\n",
    "    for j in tr[i]:\n",
    "        N += 1\n",
    "        ni += 1\n",
    "        RSS += j**2\n",
    "        G += j\n",
    "        ti2 += j\n",
    "    sigTi2N += (ti2**2)/ni\n",
    "\n",
    "CF = G**2/N\n",
    "SST = RSS - CF\n",
    "SStr = sigTi2N - CF\n",
    "SSe = SST - SStr\n",
    "\n",
    "MSStr = SStr/(k-1)\n",
    "MSSe = SSe/(N-k)\n",
    "\n",
    "Fcal = MSStr/MSSe\n",
    "\n",
    "if Fcal < 1: Fcal = MSSe/MSStr\n",
    "\n",
    "FTable = ss.f.ppf(1-alpha, k-1, N-k)\n",
    "\n",
    "if Fcal > FTable:\n",
    "    print(f\"Fcal>Ftable ({Fcal}>{round(FTable,4)}) We reject H0 and accept H1, i.e., there is no homogenity among the means\")\n",
    "else:\n",
    "    print(f\"Fcal<=Ftable ({Fcal}<={round(FTable,4)}) We accept H0,i.e., there is homogenity among the means\")"
   ]
  }
 ],
 "metadata": {
  "kernelspec": {
   "display_name": "Python 3 (ipykernel)",
   "language": "python",
   "name": "python3"
  },
  "language_info": {
   "codemirror_mode": {
    "name": "ipython",
    "version": 3
   },
   "file_extension": ".py",
   "mimetype": "text/x-python",
   "name": "python",
   "nbconvert_exporter": "python",
   "pygments_lexer": "ipython3",
   "version": "3.9.12"
  }
 },
 "nbformat": 4,
 "nbformat_minor": 5
}
