{
 "cells": [
  {
   "cell_type": "markdown",
   "id": "39395397",
   "metadata": {},
   "source": [
    "# 2.\tWrite a python program to fit a second degree parabola of the form $y=a+bx+cx^{2}$ and draw the scatter plot."
   ]
  },
  {
   "cell_type": "code",
   "execution_count": 1,
   "id": "44f64678",
   "metadata": {},
   "outputs": [],
   "source": [
    "import numpy as np\n",
    "import matplotlib.pyplot as plt"
   ]
  },
  {
   "cell_type": "code",
   "execution_count": 2,
   "id": "c36b8f0e",
   "metadata": {},
   "outputs": [],
   "source": [
    "def myMean(data):\n",
    "    mean = 0\n",
    "    for i in np.nditer(data):\n",
    "        mean += i\n",
    "    mean /= len(data)\n",
    "    return mean"
   ]
  },
  {
   "cell_type": "code",
   "execution_count": 3,
   "id": "82985f7d",
   "metadata": {},
   "outputs": [],
   "source": [
    "def det(mat):\n",
    "    v1 = mat[0,0] * ((mat[1,1] * mat[2,2]) - (mat[1,2] * mat[2,1]))\n",
    "    v2 = -mat[0,1] * ((mat[1,0] * mat[2,2]) - (mat[1,2] * mat[2,0]))\n",
    "    v3 = mat[0,2] * ((mat[1,0] * mat[2,1]) - (mat[1,1] * mat[2,0]))\n",
    "    return v1+v2+v3"
   ]
  },
  {
   "cell_type": "code",
   "execution_count": 4,
   "id": "19558897",
   "metadata": {},
   "outputs": [
    {
     "name": "stdout",
     "output_type": "stream",
     "text": [
      "Enter x values: 0 1 2 3 4\n",
      "Enter y values: 1 1.8 1.3 2.5 6.3\n",
      "The calculated parabola y=1.42+-1.07x+0.55x^2 is the best fit to the given data\n"
     ]
    },
    {
     "data": {
      "image/png": "[encoded data removed]",
      "text/plain": [
       "<Figure size 432x288 with 1 Axes>"
      ]
     },
     "metadata": {
      "needs_background": "light"
     },
     "output_type": "display_data"
    }
   ],
   "source": [
    "x = np.array([float(i) for i in input(\"Enter x values: \").split()])\n",
    "y = np.array([float(i) for i in input(\"Enter y values: \").split()])\n",
    "x2, x3, x4, xy, x2y = x**2, x**3, x**4, x*y, (x**2)*y\n",
    "ybar = myMean(y)\n",
    "\n",
    "mat = np.array([[len(x), sum(x), sum(x2)], [sum(x), sum(x2), sum(x3)], [sum(x2), sum(x3), sum(x4)]])\n",
    "v = np.array([[sum(y)], [sum(xy)], [sum(x2y)]])\n",
    "\n",
    "d = det(mat)\n",
    "mat1 = np.hstack((v,mat[:,[1,2]]))\n",
    "d1 = det(mat1)\n",
    "mat2 = np.hstack((mat[:,[0]],v,mat[:,[2]]))\n",
    "d2 = det(mat2)\n",
    "\n",
    "mat3 = np.hstack((mat[:,[0,1]],v))\n",
    "d3 = det(mat3)\n",
    "\n",
    "a, b, c = d1/d, d2/d, d3/d\n",
    "ycal = a+b*x+c*(x**2)\n",
    "\n",
    "sse = sum((y-ycal)**2)\n",
    "ssr = sum((ycal-ybar)**2)\n",
    "sst = ssr + sse\n",
    "\n",
    "r2 = ssr/sst\n",
    "\n",
    "plt.plot(x, y)\n",
    "plt.plot(x, ycal)\n",
    "\n",
    "if r2>0.9:\n",
    "    print(f'The calculated parabola y={round(a,4)}+{round(b,4)}x+{round(c,4)}x^2 is the best fit to the given data')\n",
    "else:\n",
    "    print(f'The calculated parabola y={round(a,4)}+{round(b,4)}x+{round(c,4)}x^2 is the not best fit to the given data')"
   ]
  }
 ],
 "metadata": {
  "kernelspec": {
   "display_name": "Python 3 (ipykernel)",
   "language": "python",
   "name": "python3"
  },
  "language_info": {
   "codemirror_mode": {
    "name": "ipython",
    "version": 3
   },
   "file_extension": ".py",
   "mimetype": "text/x-python",
   "name": "python",
   "nbconvert_exporter": "python",
   "pygments_lexer": "ipython3",
   "version": "3.9.12"
  }
 },
 "nbformat": 4,
 "nbformat_minor": 5
}
