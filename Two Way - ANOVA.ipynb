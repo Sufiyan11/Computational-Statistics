{
 "cells": [
  {
   "cell_type": "markdown",
   "id": "3f48031c",
   "metadata": {},
   "source": [
    "# 6. Write a python program to classify the data based on two way Anova."
   ]
  },
  {
   "cell_type": "code",
   "execution_count": 6,
   "id": "519db559",
   "metadata": {},
   "outputs": [
    {
     "name": "stdout",
     "output_type": "stream",
     "text": [
      "Enter the level of significance: 0.05\n",
      "Enter the number of treatments: 4\n",
      "Enter the number of blocks: 5\n",
      "Enter the values of treatments: \n",
      "Treatment 1: 75 73 59 69 84\n",
      "Treatment 2: 83 72 56 70 92\n",
      "Treatment 3: 86 61 53 72 88\n",
      "Treatment 4: 73 67 62 79 95\n",
      "Inference related to treatments: \n",
      "Ftr < Ftab (1.9749708963913033 < 3.4903), we accept H0, i.e.,there is no significant different among the treatments\n",
      "Inference related to blocks\n",
      "Fb >= Ftab (20.57206012378406 >= 3.2592), we reject H0 and accept H1,i.e.,there is significant different among the blocks\n"
     ]
    }
   ],
   "source": [
    "import scipy.stats as ss\n",
    "alpha = float(input(\"Enter the level of significance: \"))\n",
    "\n",
    "k = int(input(\"Enter the number of treatments: \"))\n",
    "h = int(input(\"Enter the number of blocks: \"))\n",
    "\n",
    "# tr = np.array([[75, 73 ,59,69, 84], [83, 72, 56, 70, 92], [86, 61, 53, 72, 88],[73, 67, 62, 79, 95]])\n",
    "tr = []\n",
    "print(\"Enter the values of treatments: \")\n",
    "for i in range(k):\n",
    "    vals = [float(j) for j in input(f\"Treatment {i+1}: \").split()]\n",
    "    tr.append(vals)\n",
    "tr = np.array(tr)\n",
    "N, RSS = 0, 0\n",
    "Ti = [0 for i in range(k)]\n",
    "Bj = [0 for i in range(h)]\n",
    "\n",
    "for i in range(k):\n",
    "    for j in range(h):\n",
    "        N += 1\n",
    "        RSS += tr[i,j]**2\n",
    "        Ti[i] += tr[i,j]\n",
    "        Bj[j] += tr[i,j]\n",
    "\n",
    "G = sum(Ti)\n",
    "Ti2 = sum([i**2 for i in Ti])\n",
    "Bj2 = sum([i**2 for i in Bj])\n",
    "\n",
    "CF = G**2/N\n",
    "SST = RSS - CF\n",
    "SStr = (1/h)*Ti2 - CF\n",
    "SSb = (1/k)*Bj2 - CF\n",
    "SSe = SST - SStr - SSb\n",
    "\n",
    "MSStr = SStr/(k-1)\n",
    "MSSb = SSb/(h-1)\n",
    "MSSe = SSe/((k-1)*(h-1))\n",
    "\n",
    "Ftr = MSStr/MSSe if MSStr/MSSe>1 else MSSe/MSStr\n",
    "Fb = MSSb/MSSe if MSSb/MSSe>1 else MSSe/MSSb\n",
    "\n",
    "FtrTab = ss.f.ppf(1-alpha, k-1, (k-1)*(h-1))\n",
    "FbTab = ss.f.ppf(1-alpha, h-1, (k-1)*(h-1))\n",
    "\n",
    "print(\"Inference related to treatments: \")\n",
    "if Ftr >= FtrTab:\n",
    "    print(f\"Ftr >= Ftab ({Ftr} >= {round(FtrTab,4)}), we reject H0 and accept H1,i.e.,there is significant different among the treatments\")\n",
    "else:\n",
    "    print(f\"Ftr < Ftab ({Ftr} < {round(FtrTab,4)}), we accept H0, i.e.,there is no significant different among the treatments\")\n",
    "\n",
    "print(\"Inference related to blocks\")\n",
    "if Fb >= FbTab:\n",
    "    print(f\"Fb >= Ftab ({Fb} >= {round(FbTab,4)}), we reject H0 and accept H1,i.e.,there is significant different among the blocks\")\n",
    "else:\n",
    "    print(f\"Fb < Ftab ({Fb} < {round(FbTab,4)}), we accept H0, i.e.,there is no significant different among the treatments\")"
   ]
  }
 ],
 "metadata": {
  "kernelspec": {
   "display_name": "Python 3 (ipykernel)",
   "language": "python",
   "name": "python3"
  },
  "language_info": {
   "codemirror_mode": {
    "name": "ipython",
    "version": 3
   },
   "file_extension": ".py",
   "mimetype": "text/x-python",
   "name": "python",
   "nbconvert_exporter": "python",
   "pygments_lexer": "ipython3",
   "version": "3.9.12"
  }
 },
 "nbformat": 4,
 "nbformat_minor": 5
}
