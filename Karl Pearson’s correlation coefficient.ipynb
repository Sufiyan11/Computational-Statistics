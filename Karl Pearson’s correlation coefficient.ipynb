{
 "cells": [
  {
   "cell_type": "markdown",
   "id": "8c60c701",
   "metadata": {},
   "source": [
    "# 3. Write a python program to find Karl Pearson’s correlation coefficient. "
   ]
  },
  {
   "cell_type": "code",
   "execution_count": 1,
   "id": "90b207a2",
   "metadata": {},
   "outputs": [],
   "source": [
    "import numpy as np"
   ]
  },
  {
   "cell_type": "code",
   "execution_count": 2,
   "id": "cb964652",
   "metadata": {},
   "outputs": [],
   "source": [
    "def myMean(data):\n",
    "    mean = 0\n",
    "    for i in np.nditer(data):\n",
    "        mean += i\n",
    "    mean /= len(data)\n",
    "    return mean"
   ]
  },
  {
   "cell_type": "code",
   "execution_count": 3,
   "id": "6293c5ed",
   "metadata": {},
   "outputs": [],
   "source": [
    "def mySd(x):\n",
    "    x2, xbar2 = x*x, myMean(x)**2\n",
    "    val = ((1/len(x))*sum(x2-xbar2))**(0.5)\n",
    "    return val"
   ]
  },
  {
   "cell_type": "code",
   "execution_count": 4,
   "id": "0f6087c7",
   "metadata": {},
   "outputs": [
    {
     "name": "stdout",
     "output_type": "stream",
     "text": [
      "Enter x values: 6 8 9 10 11 12 14 16\n",
      "Enter y values: 14 17 15 18 16 22 25 26\n",
      "The Pearson's correlation coeffecient is: 0.9201\n"
     ]
    }
   ],
   "source": [
    "x = np.array([float(i) for i in input(\"Enter x values: \").split()])\n",
    "y = np.array([float(i) for i in input(\"Enter y values: \").split()])\n",
    "\n",
    "x2, y2, xy, xbar, ybar = x*x, y*y, x*y, myMean(x), myMean(y)\n",
    "sdx = mySd(x)\n",
    "sdy = mySd(y)\n",
    "\n",
    "cov = (1/len(x)*sum(xy))-(xbar*ybar)\n",
    "r = cov/(sdx*sdy)\n",
    "print(f\"The Pearson's correlation coeffecient is: {round(r,4)}\")"
   ]
  }
 ],
 "metadata": {
  "kernelspec": {
   "display_name": "Python 3 (ipykernel)",
   "language": "python",
   "name": "python3"
  },
  "language_info": {
   "codemirror_mode": {
    "name": "ipython",
    "version": 3
   },
   "file_extension": ".py",
   "mimetype": "text/x-python",
   "name": "python",
   "nbconvert_exporter": "python",
   "pygments_lexer": "ipython3",
   "version": "3.9.12"
  }
 },
 "nbformat": 4,
 "nbformat_minor": 5
}
