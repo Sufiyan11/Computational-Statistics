{
 "cells": [
  {
   "cell_type": "markdown",
   "id": "670e1c3e",
   "metadata": {},
   "source": [
    "## NUMPY LIBRARY"
   ]
  },
  {
   "cell_type": "code",
   "execution_count": 8,
   "id": "094a5e98",
   "metadata": {},
   "outputs": [
    {
     "name": "stdout",
     "output_type": "stream",
     "text": [
      "Creation : [1 2 3 4]\n",
      "arange :  [0 1 2 3 4 5 6 7 8 9]\n",
      "Datatype conversion :  [0. 1. 2. 3. 4. 5. 6. 7. 8. 9.]\n"
     ]
    }
   ],
   "source": [
    "import numpy as np\n",
    "a=np.array([1,2,3,4])\n",
    "print(\"Creation :\",a)\n",
    "a=np.arange(10)\n",
    "print(\"arange : \",a)\n",
    "a=a.astype(float) # (or)  a.astype(np.float64)\n",
    "print(\"Datatype conversion : \",a)"
   ]
  },
  {
   "cell_type": "code",
   "execution_count": 2,
   "id": "58c3ead6",
   "metadata": {},
   "outputs": [
    {
     "name": "stdout",
     "output_type": "stream",
     "text": [
      "[[6 1 5]\n",
      " [4 3 2]]\n",
      "dim :  2\n",
      "row ,columns :  (2, 3)\n",
      "Datatype :  int32\n",
      "specific sort :  [[4 1 2]\n",
      " [6 3 5]]\n",
      "Sorted : [[1 2 4]\n",
      " [3 5 6]]\n",
      "Reshaping :  [[1 2]\n",
      " [4 3]\n",
      " [5 6]]\n",
      "Transpose :  [[1 4 5]\n",
      " [2 3 6]]\n"
     ]
    }
   ],
   "source": [
    "a=np.array([[6,1,5],[4,3,2]])\n",
    "print(a)\n",
    "print(\"dim : \",a.ndim)\n",
    "print(\"row ,columns : \",a.shape)\n",
    "print(\"Datatype : \",a.dtype)\n",
    "a.sort(axis=0)\n",
    "print(\"specific sort : \",a)\n",
    "a.sort()\n",
    "print(\"Sorted :\",a)\n",
    "\n",
    "a=a.T\n",
    "print(\"Transpose : \",a)"
   ]
  },
  {
   "cell_type": "code",
   "execution_count": 3,
   "id": "9fa4796f",
   "metadata": {},
   "outputs": [
    {
     "name": "stdout",
     "output_type": "stream",
     "text": [
      "zeros array :\n",
      " [[0 0 0 0]\n",
      " [0 0 0 0]\n",
      " [0 0 0 0]]\n",
      "ones array :\n",
      " [[1. 1. 1.]\n",
      " [1. 1. 1.]]\n",
      "Fill : \n",
      " [[33 33]\n",
      " [33 33]\n",
      " [33 33]]\n",
      "Identity :\n",
      " [[1 0 0 0]\n",
      " [0 1 0 0]\n",
      " [0 0 1 0]\n",
      " [0 0 0 1]]\n"
     ]
    }
   ],
   "source": [
    "a=np.zeros([3,4],int)\n",
    "print(\"zeros array :\\n\",a)\n",
    "a=np.ones([2,3])\n",
    "print(\"ones array :\\n\",a)\n",
    "a=np.empty([3,2],int)\n",
    "a.fill(33)\n",
    "print(\"Fill : \\n\",a)\n",
    "a=np.eye(4,4,dtype=int)\n",
    "print(\"Identity :\\n\",a)"
   ]
  },
  {
   "cell_type": "code",
   "execution_count": 4,
   "id": "69a47957",
   "metadata": {},
   "outputs": [
    {
     "name": "stdout",
     "output_type": "stream",
     "text": [
      "[ 1  3  6  9 12 15 18 21 24 27 30]\n"
     ]
    }
   ],
   "source": [
    "a=np.linspace(1,30,11,dtype=int)\n",
    "print(a)"
   ]
  },
  {
   "cell_type": "code",
   "execution_count": 11,
   "id": "1ce3422e",
   "metadata": {},
   "outputs": [
    {
     "name": "stdout",
     "output_type": "stream",
     "text": [
      "Array :\n",
      " [[1 4 7]\n",
      " [2 5 8]\n",
      " [3 6 9]] \n",
      "......\n",
      "element at 3rd row 2nd column:  6\n",
      "Subarray with upto 2 rows and from 1st column:\n",
      " [[4 7]\n",
      " [5 8]]\n",
      "Negative indexing 2nd last element in each row: [4 5 6]\n"
     ]
    }
   ],
   "source": [
    "a=np.array([[1,4,7],[2,5,8],[3,6,9]])\n",
    "print(\"Array :\\n\",a,\"\\n......\")\n",
    "print(\"element at 3rd row 2nd column: \",a[2][1])\n",
    "b=a[:2,1:]\n",
    "print(\"Subarray with upto 2 rows and from 1st column:\\n\",b)\n",
    "c=a[:,-2]\n",
    "print(\"Negative indexing 2nd last element in each row:\",c)"
   ]
  },
  {
   "cell_type": "code",
   "execution_count": 18,
   "id": "5fe2dd1c",
   "metadata": {},
   "outputs": [
    {
     "name": "stdout",
     "output_type": "stream",
     "text": [
      "real :\n",
      " [[1 2 3]\n",
      " [4 5 6]]\n",
      "Copied :\n",
      " [[1 2 3]\n",
      " [4 5 6]]\n",
      "View array(changes in original are reflected) :\n",
      " [[1 2 3]\n",
      " [4 5 6]]\n",
      "after changeing in array 'a' : \n",
      " [[1 2 3]\n",
      " [4 5 9]]\n",
      "b base : None    c base :  [[1 2 3]\n",
      " [4 5 9]]\n"
     ]
    }
   ],
   "source": [
    "a=np.array([[1,2,3],[4,5,6]])\n",
    "print(\"real :\\n\",a)\n",
    "b=a.copy()\n",
    "print(\"Copied :\\n\",b)\n",
    "c=a.view()\n",
    "print(\"View array(changes in original are reflected) :\\n\",c)\n",
    "a[1][2]=9\n",
    "print(\"after changeing in array 'a' : \\n\",c)\n",
    "print(\"b base :\",b.base,\"   c base : \",c.base)\n"
   ]
  },
  {
   "cell_type": "code",
   "execution_count": 21,
   "id": "b7b684ac",
   "metadata": {},
   "outputs": [
    {
     "name": "stdout",
     "output_type": "stream",
     "text": [
      "Reshaping : \n",
      " [[ 1  2  3  4]\n",
      " [ 5  6  7  8]\n",
      " [ 9 10 11 12]]\n",
      "3-D reshaping : \n",
      " [[[ 1  2  3]\n",
      "  [ 4  5  6]]\n",
      "\n",
      " [[ 7  8  9]\n",
      "  [10 11 12]]]\n",
      "Unknown reshaping : \n",
      " [[[ 1  2]\n",
      "  [ 3  4]\n",
      "  [ 5  6]]\n",
      "\n",
      " [[ 7  8]\n",
      "  [ 9 10]\n",
      "  [11 12]]]\n"
     ]
    }
   ],
   "source": [
    "a=np.array([1,2,3,4,5,6,7,8,9,10,11,12])\n",
    "a=a.reshape(3,4)\n",
    "print(\"Reshaping : \\n\",a)\n",
    "a=a.reshape(2,2,3)\n",
    "print(\"3-D reshaping : \\n\",a)\n",
    "a=a.reshape(2,3,-1)\n",
    "print(\"Unknown reshaping : \\n\",a)"
   ]
  },
  {
   "cell_type": "code",
   "execution_count": 26,
   "id": "325302da",
   "metadata": {},
   "outputs": [
    {
     "name": "stdout",
     "output_type": "stream",
     "text": [
      "7\n",
      "8\n",
      "9\n",
      "...\n",
      "10\n",
      "11\n",
      "12\n",
      "...\n",
      "1\n",
      "2\n",
      "3\n",
      "...\n",
      "4\n",
      "5\n",
      "6\n",
      "...\n"
     ]
    }
   ],
   "source": [
    "a=np.array([[[7,8,9],[10,11,12]],[[1,2,3],[4,5,6]]])\n",
    "for i in a:\n",
    "    for j in i:\n",
    "        for k in j:\n",
    "            print(k)\n",
    "        print(\"...\")"
   ]
  },
  {
   "cell_type": "code",
   "execution_count": 49,
   "id": "6860b367",
   "metadata": {},
   "outputs": [
    {
     "name": "stdout",
     "output_type": "stream",
     "text": [
      "a :  [[1 2 3]\n",
      " [7 8 9]] \n",
      "b :  [[ 4  5  6]\n",
      " [10 11 12]]\n",
      "Concatenated array : \n",
      " [[ 1  2  3]\n",
      " [ 7  8  9]\n",
      " [ 4  5  6]\n",
      " [10 11 12]]\n",
      "specific concatenation :\n",
      "  [[ 1  2  3  4  5  6]\n",
      " [ 7  8  9 10 11 12]]\n",
      "stack 1 :\n",
      "  [[[ 1  2  3]\n",
      "  [ 7  8  9]]\n",
      "\n",
      " [[ 4  5  6]\n",
      "  [10 11 12]]]\n",
      "stack 2 :\n",
      "  [[[ 1  2  3]\n",
      "  [ 4  5  6]]\n",
      "\n",
      " [[ 7  8  9]\n",
      "  [10 11 12]]]\n",
      "stack 3 :\n",
      "  [[[ 1  4]\n",
      "  [ 2  5]\n",
      "  [ 3  6]]\n",
      "\n",
      " [[ 7 10]\n",
      "  [ 8 11]\n",
      "  [ 9 12]]]\n",
      "hstack : \n",
      " [[ 1  2  3  4  5  6]\n",
      " [ 7  8  9 10 11 12]]\n",
      "vstack : \n",
      " [[ 1  2  3]\n",
      " [ 7  8  9]\n",
      " [ 4  5  6]\n",
      " [10 11 12]]\n",
      "dstack : \n",
      " [[[ 1  4]\n",
      "  [ 2  5]\n",
      "  [ 3  6]]\n",
      "\n",
      " [[ 7 10]\n",
      "  [ 8 11]\n",
      "  [ 9 12]]]\n"
     ]
    }
   ],
   "source": [
    "a=np.array([[1,2,3],[7,8,9]])\n",
    "b=np.array([[4,5,6],[10,11,12]])\n",
    "print(\"a : \",a,\"\\nb : \",b)\n",
    "c=np.concatenate((a,b))\n",
    "print(\"Concatenated array : \\n\",c)\n",
    "c=np.concatenate((a,b),axis=1)\n",
    "print(\"specific concatenation :\\n \",c)\n",
    "c=np.stack((a,b),axis=0)\n",
    "print(\"stack 1 :\\n \",c)\n",
    "c=np.stack((a,b),axis=1)\n",
    "print(\"stack 2 :\\n \",c)\n",
    "c=np.stack((a,b),axis=2)\n",
    "print(\"stack 3 :\\n \",c)\n",
    "c=np.hstack((a,b))\n",
    "print(\"hstack : \\n\",c)\n",
    "c=np.vstack((a,b))\n",
    "print(\"vstack : \\n\",c)\n",
    "c=np.dstack((a,b))\n",
    "print(\"dstack : \\n\",c)"
   ]
  },
  {
   "cell_type": "code",
   "execution_count": 54,
   "id": "f1aabd42",
   "metadata": {},
   "outputs": [
    {
     "name": "stdout",
     "output_type": "stream",
     "text": [
      "indices of 2 : (array([1, 6], dtype=int64),)\n",
      "Even numbers indices:  (array([1, 3, 5, 6], dtype=int64),)\n",
      "8 index : 2\n",
      "Index of 8 from end : 3\n"
     ]
    }
   ],
   "source": [
    "a=np.array([1,2,3,4,5,6,2,3])\n",
    "x=np.where(a==2)\n",
    "print(\"indices of 2 :\",x)\n",
    "x=np.where(a%2==0)\n",
    "print(\"Even numbers indices: \",x)\n",
    "a=np.array([4,5,8,9])\n",
    "x=np.searchsorted(a,8)\n",
    "print(\"8 index :\",x)\n",
    "x=np.searchsorted(a,8,side='right')\n",
    "print(\"Index of 8 from end :\",x)"
   ]
  },
  {
   "cell_type": "code",
   "execution_count": null,
   "id": "d8c48814",
   "metadata": {},
   "outputs": [],
   "source": []
  }
 ],
 "metadata": {
  "kernelspec": {
   "display_name": "Python 3 (ipykernel)",
   "language": "python",
   "name": "python3"
  },
  "language_info": {
   "codemirror_mode": {
    "name": "ipython",
    "version": 3
   },
   "file_extension": ".py",
   "mimetype": "text/x-python",
   "name": "python",
   "nbconvert_exporter": "python",
   "pygments_lexer": "ipython3",
   "version": "3.9.7"
  }
 },
 "nbformat": 4,
 "nbformat_minor": 5
}
