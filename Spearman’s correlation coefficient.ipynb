{
 "cells": [
  {
   "cell_type": "markdown",
   "id": "39a827e4",
   "metadata": {},
   "source": [
    "# 4. Write a python program to find the Spearman’s correlation coefficient between x and y variables."
   ]
  },
  {
   "cell_type": "code",
   "execution_count": 1,
   "id": "b535feb1",
   "metadata": {},
   "outputs": [],
   "source": [
    "import numpy as np"
   ]
  },
  {
   "cell_type": "code",
   "execution_count": 2,
   "id": "2d2909e5",
   "metadata": {},
   "outputs": [],
   "source": [
    "def calRank(data):\n",
    "    Ranks = []\n",
    "    \n",
    "    n = len(data)\n",
    "    \n",
    "    for i in range(n):\n",
    "        bigs = 1\n",
    "        same = 0\n",
    "        \n",
    "        for j in range(i):\n",
    "            if data[j] > data[i]:\n",
    "                bigs += 1\n",
    "            elif data[j] == data[i]:\n",
    "                same += 1\n",
    "        \n",
    "        for j in range(i+1, n):\n",
    "            if data[j] > data[i]:\n",
    "                bigs += 1\n",
    "            elif data[j] == data[i]:\n",
    "                same += 1\n",
    "        Ranks.append(bigs + same/2)\n",
    "    return np.array(Ranks)"
   ]
  },
  {
   "cell_type": "code",
   "execution_count": 3,
   "id": "adb1e101",
   "metadata": {},
   "outputs": [],
   "source": [
    "def cf(x, y):\n",
    "    cf = 0\n",
    "    \n",
    "    setX, freqX = np.unique(x, return_counts=True)\n",
    "    setY, freqY = np.unique(y, return_counts=True)\n",
    "    for i in range(len(setX)):\n",
    "        if freqX[i] > 1:\n",
    "            cf += freqX[i] * (freqX[i]**2 - 1) / 12\n",
    "    for i in range(len(setY)):\n",
    "        if freqY[i] > 1:\n",
    "            cf += freqY[i] * (freqY[i]**2 - 1) / 12\n",
    "    return cf"
   ]
  },
  {
   "cell_type": "code",
   "execution_count": 4,
   "id": "022e4408",
   "metadata": {},
   "outputs": [
    {
     "name": "stdout",
     "output_type": "stream",
     "text": [
      "Enter x values: 80 90 84 78 69 56 92 76 68 50\n",
      "Enter y values: 12 14 19 8 9 16 13 11 4 2\n",
      "X= [80. 90. 84. 78. 69. 56. 92. 76. 68. 50.]\n",
      "Y= [12. 14. 19.  8.  9. 16. 13. 11.  4.  2.]\n",
      "di= [-1. -1.  2. -3.  0.  7. -3.  0. -1.  0.]\n",
      "di^2= [ 1.  1.  4.  9.  0. 49.  9.  0.  1.  0.]\n",
      "Sum of di^2= 74.0\n",
      "Correction factor= 0\n",
      "Correlation coeffecient= 0.5515151515151515\n"
     ]
    }
   ],
   "source": [
    "x = np.array([float(i) for i in input(\"Enter x values: \").split()])\n",
    "y = np.array([float(i) for i in input(\"Enter y values: \").split()])\n",
    "n = len(x)\n",
    "print(\"X=\", x)\n",
    "print(\"Y=\", y)\n",
    "xrank = calRank(x)\n",
    "yrank = calRank(y)\n",
    "\n",
    "di = xrank - yrank\n",
    "di2 = di**2\n",
    "\n",
    "print(\"di=\", di)\n",
    "print(\"di^2=\", di2)\n",
    "\n",
    "correcFac = cf(x, y)\n",
    "sigDi2 = sum(di2) + correcFac\n",
    "\n",
    "corr = 1 - (6*sigDi2)/(n*(n**2-1))\n",
    "\n",
    "print(\"Sum of di^2=\", sigDi2)\n",
    "print(\"Correction factor=\", correcFac)\n",
    "print(\"Correlation coeffecient=\", corr)"
   ]
  }
 ],
 "metadata": {
  "kernelspec": {
   "display_name": "Python 3 (ipykernel)",
   "language": "python",
   "name": "python3"
  },
  "language_info": {
   "codemirror_mode": {
    "name": "ipython",
    "version": 3
   },
   "file_extension": ".py",
   "mimetype": "text/x-python",
   "name": "python",
   "nbconvert_exporter": "python",
   "pygments_lexer": "ipython3",
   "version": "3.9.12"
  }
 },
 "nbformat": 4,
 "nbformat_minor": 5
}
